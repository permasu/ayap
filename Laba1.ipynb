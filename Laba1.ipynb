{
 "cells": [
  {
   "cell_type": "code",
   "execution_count": 14,
   "metadata": {},
   "outputs": [
    {
     "name": "stdout",
     "output_type": "stream",
     "text": [
      "Список группы\n",
      "Имя: Ахметшин Сергей Группа: АСУ5-19-1\n",
      "Имя: Рожин Павел Группа: АСУ5-19-1\n"
     ]
    }
   ],
   "source": [
    "class journal:\n",
    "    def __init__(self,name,faculty):\n",
    "        self.name=name\n",
    "        self.faculty=faculty\n",
    "a = [journal('Ахметшин Сергей', 'АСУ5-19-1'), journal('Рожин Павел','АСУ5-19-1')]\n",
    "print('Список группы')\n",
    "for x in a:\n",
    "    print(\"Имя: \"+ x.name +\" Группа: \"+ x.faculty)"
   ]
  },
  {
   "cell_type": "code",
   "execution_count": null,
   "metadata": {},
   "outputs": [],
   "source": []
  }
 ],
 "metadata": {
  "kernelspec": {
   "display_name": "Python 3",
   "language": "python",
   "name": "python3"
  },
  "language_info": {
   "codemirror_mode": {
    "name": "ipython",
    "version": 3
   },
   "file_extension": ".py",
   "mimetype": "text/x-python",
   "name": "python",
   "nbconvert_exporter": "python",
   "pygments_lexer": "ipython3",
   "version": "3.7.4"
  }
 },
 "nbformat": 4,
 "nbformat_minor": 2
}
